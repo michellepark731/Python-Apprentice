{
 "cells": [
  {
   "cell_type": "code",
   "execution_count": 13,
   "metadata": {},
   "outputs": [
    {
     "data": {
      "text/plain": [
       "<function turtle.exitonclick()>"
      ]
     },
     "execution_count": 13,
     "metadata": {},
     "output_type": "execute_result"
    }
   ],
   "source": [
    "\"\"\"\n",
    "Programmable turtle graphics\n",
    "\n",
    "Use what you've learned about lists, loop, cycle, slice and zip to draw a pattern\n",
    "\n",
    "\"\"\"\n",
    "\n",
    "import turtle                           # Tell Python we want to work with the turtle\n",
    "turtle.setup (width=600, height=600) \n",
    "t =  turtle.Turtle()   \n",
    "t.shape('turtle')                    # Set the shape of the turtle to a turtle\n",
    "t.speed(2)\n",
    "  # Create a turtle like in previous programs, like 04_Crazy_Tina.py\n",
    "\n",
    "colors = [ 'red', 'orange', 'yellow', 'green' ] # Make a list of colors\n",
    "\n",
    "directions = [ # Create a list of directions and angles\n",
    "    ( 90, 50 ),\n",
    "    ( 45, 25 ),\n",
    "    ( 30, 20 ),\n",
    "    ( 40, 60)\n",
    "]\n",
    "\n",
    "# Zip the colors and directions together, then unpack them. THere is a good example of this\n",
    "# in 10_More_iterables.ipynb in the discussion of zip()\n",
    "\n",
    "for colors, (angle, distance)  in zip(colors, directions):\n",
    "    t.color(colors)\n",
    "    t.forward( distance )\n",
    "    t.left( angle)\n",
    "\n",
    "turtle.exitonclick\n",
    "# Don't forget the special way to end a turtle program. \n"
   ]
  }
 ],
 "metadata": {
  "kernelspec": {
   "display_name": "Python 3",
   "language": "python",
   "name": "python3"
  },
  "language_info": {
   "codemirror_mode": {
    "name": "ipython",
    "version": 3
   },
   "file_extension": ".py",
   "mimetype": "text/x-python",
   "name": "python",
   "nbconvert_exporter": "python",
   "pygments_lexer": "ipython3",
   "version": "3.12.4"
  }
 },
 "nbformat": 4,
 "nbformat_minor": 2
}
